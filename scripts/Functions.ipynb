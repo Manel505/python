{
 "cells": [
  {
   "cell_type": "code",
   "execution_count": 43,
   "metadata": {},
   "outputs": [],
   "source": [
    "import pandas"
   ]
  },
  {
   "cell_type": "code",
   "execution_count": 44,
   "metadata": {},
   "outputs": [],
   "source": [
    "import glob"
   ]
  },
  {
   "cell_type": "code",
   "execution_count": 45,
   "metadata": {},
   "outputs": [],
   "source": [
    "def print_hello():\n",
    "    '''This function provides a hello'''\n",
    "    print('hello')"
   ]
  },
  {
   "cell_type": "code",
   "execution_count": 47,
   "metadata": {},
   "outputs": [
    {
     "name": "stdout",
     "output_type": "stream",
     "text": [
      "hello\n"
     ]
    }
   ],
   "source": [
    "print_hello()"
   ]
  },
  {
   "cell_type": "code",
   "execution_count": 74,
   "metadata": {},
   "outputs": [],
   "source": [
    "def return_combined_data(year, month, day):\n",
    "    '''Return\n",
    "    http://localhost:8888/notebooks/Documents/20181024/python/scripts/Functions.ipynb\n",
    "    Parameters\n",
    "    \n",
    "    '''\n",
    "    assert month <= 12\n",
    "    assert day <= 31 \n",
    "    return str(year)+'-'+str(month)+'-'+str(day)\n"
   ]
  },
  {
   "cell_type": "code",
   "execution_count": 75,
   "metadata": {},
   "outputs": [
    {
     "data": {
      "text/plain": [
       "'2000-11-25'"
      ]
     },
     "execution_count": 75,
     "metadata": {},
     "output_type": "execute_result"
    }
   ],
   "source": [
    "return_combined_data(year=2000, month=11, day=25)\n"
   ]
  },
  {
   "cell_type": "code",
   "execution_count": 132,
   "metadata": {
    "scrolled": true
   },
   "outputs": [],
   "source": [
    "#Fill in the blanks to create a function that takes a single filename as an argument, \n",
    "#loads the data in the file named by the argument, \n",
    "#and returns the minimum value of column gdpPercap_1972 in that data:\n",
    "import pandas\n",
    "def min_in_data(filename, column_name = \"gdpPercap_1972\"):\n",
    "    newname=\"../data/\" + filename\n",
    "    data=pandas.read_csv(newname, index_col=\"country\")\n",
    "    min_data = data[column_name].min()\n",
    "    min_country = data[column_name].idxmin()\n",
    "    return (min_data,min_country)"
   ]
  },
  {
   "cell_type": "code",
   "execution_count": 134,
   "metadata": {},
   "outputs": [
    {
     "data": {
      "text/plain": [
       "(5937.029525999999, 'Albania')"
      ]
     },
     "execution_count": 134,
     "metadata": {},
     "output_type": "execute_result"
    }
   ],
   "source": [
    "    min_in_data(\"gapminder_gdp_europe.csv\", \"gdpPercap_2007\")\n"
   ]
  },
  {
   "cell_type": "code",
   "execution_count": null,
   "metadata": {},
   "outputs": [],
   "source": []
  }
 ],
 "metadata": {
  "kernelspec": {
   "display_name": "Python 3",
   "language": "python",
   "name": "python3"
  },
  "language_info": {
   "codemirror_mode": {
    "name": "ipython",
    "version": 3
   },
   "file_extension": ".py",
   "mimetype": "text/x-python",
   "name": "python",
   "nbconvert_exporter": "python",
   "pygments_lexer": "ipython3",
   "version": "3.7.0"
  }
 },
 "nbformat": 4,
 "nbformat_minor": 2
}
